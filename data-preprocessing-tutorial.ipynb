{
 "cells": [
  {
   "cell_type": "markdown",
   "id": "942da117",
   "metadata": {
    "papermill": {
     "duration": 0.005933,
     "end_time": "2024-01-29T22:11:27.485546",
     "exception": false,
     "start_time": "2024-01-29T22:11:27.479613",
     "status": "completed"
    },
    "tags": []
   },
   "source": [
    "\n",
    "## DATA PREPROCESSING TUTORIAL\n",
    "\n",
    "------------------------------------"
   ]
  },
  {
   "cell_type": "markdown",
   "id": "70871a1e",
   "metadata": {
    "papermill": {
     "duration": 0.00501,
     "end_time": "2024-01-29T22:11:27.496062",
     "exception": false,
     "start_time": "2024-01-29T22:11:27.491052",
     "status": "completed"
    },
    "tags": []
   },
   "source": [
    "## Importing Libraries"
   ]
  },
  {
   "cell_type": "code",
   "execution_count": 1,
   "id": "8c039a96",
   "metadata": {
    "execution": {
     "iopub.execute_input": "2024-01-29T22:11:27.508838Z",
     "iopub.status.busy": "2024-01-29T22:11:27.508214Z",
     "iopub.status.idle": "2024-01-29T22:11:28.264869Z",
     "shell.execute_reply": "2024-01-29T22:11:28.263673Z"
    },
    "papermill": {
     "duration": 0.765939,
     "end_time": "2024-01-29T22:11:28.267461",
     "exception": false,
     "start_time": "2024-01-29T22:11:27.501522",
     "status": "completed"
    },
    "tags": []
   },
   "outputs": [],
   "source": [
    "import numpy as np\n",
    "import matplotlib.pyplot as plt\n",
    "import pandas as pd"
   ]
  },
  {
   "cell_type": "markdown",
   "id": "93f660bb",
   "metadata": {
    "papermill": {
     "duration": 0.005268,
     "end_time": "2024-01-29T22:11:28.278385",
     "exception": false,
     "start_time": "2024-01-29T22:11:28.273117",
     "status": "completed"
    },
    "tags": []
   },
   "source": [
    "# Getting Dataset"
   ]
  },
  {
   "cell_type": "code",
   "execution_count": 2,
   "id": "53ef3092",
   "metadata": {
    "execution": {
     "iopub.execute_input": "2024-01-29T22:11:28.292517Z",
     "iopub.status.busy": "2024-01-29T22:11:28.292017Z",
     "iopub.status.idle": "2024-01-29T22:11:28.314443Z",
     "shell.execute_reply": "2024-01-29T22:11:28.313296Z"
    },
    "papermill": {
     "duration": 0.031535,
     "end_time": "2024-01-29T22:11:28.316856",
     "exception": false,
     "start_time": "2024-01-29T22:11:28.285321",
     "status": "completed"
    },
    "tags": []
   },
   "outputs": [],
   "source": [
    "dataset = pd.read_csv(\"/kaggle/input/data-preprocessing-tutorial-dataset/Data.csv\")\n",
    "X = dataset.iloc[:,:-1].values\n",
    "y = dataset.iloc[:,-1].values"
   ]
  },
  {
   "cell_type": "code",
   "execution_count": 3,
   "id": "a0fa4540",
   "metadata": {
    "execution": {
     "iopub.execute_input": "2024-01-29T22:11:28.329582Z",
     "iopub.status.busy": "2024-01-29T22:11:28.329215Z",
     "iopub.status.idle": "2024-01-29T22:11:28.335087Z",
     "shell.execute_reply": "2024-01-29T22:11:28.333746Z"
    },
    "papermill": {
     "duration": 0.014594,
     "end_time": "2024-01-29T22:11:28.337219",
     "exception": false,
     "start_time": "2024-01-29T22:11:28.322625",
     "status": "completed"
    },
    "tags": []
   },
   "outputs": [
    {
     "name": "stdout",
     "output_type": "stream",
     "text": [
      "[['France' 44.0 72000.0]\n",
      " ['Spain' 27.0 48000.0]\n",
      " ['Germany' 30.0 54000.0]\n",
      " ['Spain' 38.0 61000.0]\n",
      " ['Germany' 40.0 nan]\n",
      " ['France' 35.0 58000.0]\n",
      " ['Spain' nan 52000.0]\n",
      " ['France' 48.0 79000.0]\n",
      " ['Germany' 50.0 83000.0]\n",
      " ['France' 37.0 67000.0]]\n"
     ]
    }
   ],
   "source": [
    "print(X)"
   ]
  },
  {
   "cell_type": "code",
   "execution_count": 4,
   "id": "f6ecd076",
   "metadata": {
    "execution": {
     "iopub.execute_input": "2024-01-29T22:11:28.350399Z",
     "iopub.status.busy": "2024-01-29T22:11:28.349784Z",
     "iopub.status.idle": "2024-01-29T22:11:28.354617Z",
     "shell.execute_reply": "2024-01-29T22:11:28.353408Z"
    },
    "papermill": {
     "duration": 0.013884,
     "end_time": "2024-01-29T22:11:28.356721",
     "exception": false,
     "start_time": "2024-01-29T22:11:28.342837",
     "status": "completed"
    },
    "tags": []
   },
   "outputs": [
    {
     "name": "stdout",
     "output_type": "stream",
     "text": [
      "['No' 'Yes' 'No' 'No' 'Yes' 'Yes' 'No' 'Yes' 'No' 'Yes']\n"
     ]
    }
   ],
   "source": [
    "print(y)"
   ]
  },
  {
   "cell_type": "markdown",
   "id": "2f59e2d8",
   "metadata": {
    "papermill": {
     "duration": 0.005383,
     "end_time": "2024-01-29T22:11:28.367845",
     "exception": false,
     "start_time": "2024-01-29T22:11:28.362462",
     "status": "completed"
    },
    "tags": []
   },
   "source": [
    "# Taking Care of Missing Data"
   ]
  },
  {
   "cell_type": "code",
   "execution_count": 5,
   "id": "a76bc081",
   "metadata": {
    "execution": {
     "iopub.execute_input": "2024-01-29T22:11:28.380531Z",
     "iopub.status.busy": "2024-01-29T22:11:28.380109Z",
     "iopub.status.idle": "2024-01-29T22:11:29.795323Z",
     "shell.execute_reply": "2024-01-29T22:11:29.794246Z"
    },
    "papermill": {
     "duration": 1.424297,
     "end_time": "2024-01-29T22:11:29.797761",
     "exception": false,
     "start_time": "2024-01-29T22:11:28.373464",
     "status": "completed"
    },
    "tags": []
   },
   "outputs": [
    {
     "name": "stdout",
     "output_type": "stream",
     "text": [
      "[['France' 44.0 72000.0]\n",
      " ['Spain' 27.0 48000.0]\n",
      " ['Germany' 30.0 54000.0]\n",
      " ['Spain' 38.0 61000.0]\n",
      " ['Germany' 40.0 nan]\n",
      " ['France' 35.0 58000.0]\n",
      " ['Spain' nan 52000.0]\n",
      " ['France' 48.0 79000.0]\n",
      " ['Germany' 50.0 83000.0]\n",
      " ['France' 37.0 67000.0]]\n"
     ]
    }
   ],
   "source": [
    "from sklearn.impute import SimpleImputer\n",
    "imputer = SimpleImputer(missing_values=np.nan, strategy='mean')\n",
    "\n",
    "print(X)"
   ]
  },
  {
   "cell_type": "code",
   "execution_count": 6,
   "id": "c33ed403",
   "metadata": {
    "execution": {
     "iopub.execute_input": "2024-01-29T22:11:29.811245Z",
     "iopub.status.busy": "2024-01-29T22:11:29.810445Z",
     "iopub.status.idle": "2024-01-29T22:11:29.819649Z",
     "shell.execute_reply": "2024-01-29T22:11:29.818918Z"
    },
    "papermill": {
     "duration": 0.018148,
     "end_time": "2024-01-29T22:11:29.821821",
     "exception": false,
     "start_time": "2024-01-29T22:11:29.803673",
     "status": "completed"
    },
    "tags": []
   },
   "outputs": [
    {
     "name": "stdout",
     "output_type": "stream",
     "text": [
      "[['France' 44.0 72000.0]\n",
      " ['Spain' 27.0 48000.0]\n",
      " ['Germany' 30.0 54000.0]\n",
      " ['Spain' 38.0 61000.0]\n",
      " ['Germany' 40.0 63777.77777777778]\n",
      " ['France' 35.0 58000.0]\n",
      " ['Spain' 38.77777777777778 52000.0]\n",
      " ['France' 48.0 79000.0]\n",
      " ['Germany' 50.0 83000.0]\n",
      " ['France' 37.0 67000.0]]\n"
     ]
    }
   ],
   "source": [
    "X[:, 1:3] = imputer.fit_transform(X[:, 1:3]) # It's fit the imputer to the X then transform the variables.\n",
    "print(X)"
   ]
  },
  {
   "cell_type": "markdown",
   "id": "4d05398e",
   "metadata": {
    "papermill": {
     "duration": 0.005466,
     "end_time": "2024-01-29T22:11:29.832976",
     "exception": false,
     "start_time": "2024-01-29T22:11:29.827510",
     "status": "completed"
    },
    "tags": []
   },
   "source": [
    "# Encoding categorical data"
   ]
  },
  {
   "cell_type": "markdown",
   "id": "5d536f3a",
   "metadata": {
    "papermill": {
     "duration": 0.006255,
     "end_time": "2024-01-29T22:11:29.844823",
     "exception": false,
     "start_time": "2024-01-29T22:11:29.838568",
     "status": "completed"
    },
    "tags": []
   },
   "source": [
    "Encoding the Independent Variable"
   ]
  },
  {
   "cell_type": "code",
   "execution_count": 7,
   "id": "3ca2eed5",
   "metadata": {
    "execution": {
     "iopub.execute_input": "2024-01-29T22:11:29.858034Z",
     "iopub.status.busy": "2024-01-29T22:11:29.857308Z",
     "iopub.status.idle": "2024-01-29T22:11:29.875232Z",
     "shell.execute_reply": "2024-01-29T22:11:29.874006Z"
    },
    "papermill": {
     "duration": 0.027151,
     "end_time": "2024-01-29T22:11:29.877541",
     "exception": false,
     "start_time": "2024-01-29T22:11:29.850390",
     "status": "completed"
    },
    "tags": []
   },
   "outputs": [
    {
     "name": "stdout",
     "output_type": "stream",
     "text": [
      "[[1.0 0.0 0.0 44.0 72000.0]\n",
      " [0.0 0.0 1.0 27.0 48000.0]\n",
      " [0.0 1.0 0.0 30.0 54000.0]\n",
      " [0.0 0.0 1.0 38.0 61000.0]\n",
      " [0.0 1.0 0.0 40.0 63777.77777777778]\n",
      " [1.0 0.0 0.0 35.0 58000.0]\n",
      " [0.0 0.0 1.0 38.77777777777778 52000.0]\n",
      " [1.0 0.0 0.0 48.0 79000.0]\n",
      " [0.0 1.0 0.0 50.0 83000.0]\n",
      " [1.0 0.0 0.0 37.0 67000.0]]\n"
     ]
    }
   ],
   "source": [
    "from sklearn.compose import ColumnTransformer\n",
    "from sklearn.preprocessing import OneHotEncoder\n",
    "\n",
    "ct = ColumnTransformer(transformers=[('encoding_country', OneHotEncoder(), [0])], remainder='passthrough') \n",
    "#Country column is goint to three part with 1 and 0.\n",
    "\n",
    "X = np.array(ct.fit_transform(X))  # Getting np array\n",
    "print(X)"
   ]
  },
  {
   "cell_type": "markdown",
   "id": "dd91cbf4",
   "metadata": {
    "papermill": {
     "duration": 0.005481,
     "end_time": "2024-01-29T22:11:29.888861",
     "exception": false,
     "start_time": "2024-01-29T22:11:29.883380",
     "status": "completed"
    },
    "tags": []
   },
   "source": [
    "Encoding the Dependent Variable"
   ]
  },
  {
   "cell_type": "code",
   "execution_count": 8,
   "id": "4a825d9a",
   "metadata": {
    "execution": {
     "iopub.execute_input": "2024-01-29T22:11:29.902170Z",
     "iopub.status.busy": "2024-01-29T22:11:29.901517Z",
     "iopub.status.idle": "2024-01-29T22:11:29.908010Z",
     "shell.execute_reply": "2024-01-29T22:11:29.906833Z"
    },
    "papermill": {
     "duration": 0.015344,
     "end_time": "2024-01-29T22:11:29.909988",
     "exception": false,
     "start_time": "2024-01-29T22:11:29.894644",
     "status": "completed"
    },
    "tags": []
   },
   "outputs": [
    {
     "name": "stdout",
     "output_type": "stream",
     "text": [
      "[0 1 0 0 1 1 0 1 0 1]\n"
     ]
    }
   ],
   "source": [
    "from sklearn.preprocessing import LabelEncoder\n",
    "y = LabelEncoder().fit_transform(y) \n",
    "# Output (Purchased : YES OR NO) going to encode 1 and 0.\n",
    "print(y)"
   ]
  },
  {
   "cell_type": "markdown",
   "id": "aa6385cc",
   "metadata": {
    "papermill": {
     "duration": 0.005517,
     "end_time": "2024-01-29T22:11:29.921296",
     "exception": false,
     "start_time": "2024-01-29T22:11:29.915779",
     "status": "completed"
    },
    "tags": []
   },
   "source": [
    "# Splitting the dataset into the Training set and Test set"
   ]
  },
  {
   "cell_type": "code",
   "execution_count": 9,
   "id": "0de5f234",
   "metadata": {
    "execution": {
     "iopub.execute_input": "2024-01-29T22:11:29.935551Z",
     "iopub.status.busy": "2024-01-29T22:11:29.934431Z",
     "iopub.status.idle": "2024-01-29T22:11:29.939945Z",
     "shell.execute_reply": "2024-01-29T22:11:29.939171Z"
    },
    "papermill": {
     "duration": 0.014781,
     "end_time": "2024-01-29T22:11:29.941826",
     "exception": false,
     "start_time": "2024-01-29T22:11:29.927045",
     "status": "completed"
    },
    "tags": []
   },
   "outputs": [],
   "source": [
    "from sklearn.model_selection import train_test_split\n",
    "X_train, X_test, y_train, y_test = train_test_split(X, y, test_size = 0.2, random_state = 1) \n",
    "# we split dataset to train and test datasets. Generaly %20 percent test size is recommended."
   ]
  },
  {
   "cell_type": "code",
   "execution_count": 10,
   "id": "59c9e19d",
   "metadata": {
    "execution": {
     "iopub.execute_input": "2024-01-29T22:11:29.955609Z",
     "iopub.status.busy": "2024-01-29T22:11:29.954613Z",
     "iopub.status.idle": "2024-01-29T22:11:29.960256Z",
     "shell.execute_reply": "2024-01-29T22:11:29.959049Z"
    },
    "papermill": {
     "duration": 0.014783,
     "end_time": "2024-01-29T22:11:29.962463",
     "exception": false,
     "start_time": "2024-01-29T22:11:29.947680",
     "status": "completed"
    },
    "tags": []
   },
   "outputs": [
    {
     "name": "stdout",
     "output_type": "stream",
     "text": [
      "[[0.0 0.0 1.0 38.77777777777778 52000.0]\n",
      " [0.0 1.0 0.0 40.0 63777.77777777778]\n",
      " [1.0 0.0 0.0 44.0 72000.0]\n",
      " [0.0 0.0 1.0 38.0 61000.0]\n",
      " [0.0 0.0 1.0 27.0 48000.0]\n",
      " [1.0 0.0 0.0 48.0 79000.0]\n",
      " [0.0 1.0 0.0 50.0 83000.0]\n",
      " [1.0 0.0 0.0 35.0 58000.0]]\n"
     ]
    }
   ],
   "source": [
    "print(X_train)"
   ]
  },
  {
   "cell_type": "code",
   "execution_count": 11,
   "id": "63c25d49",
   "metadata": {
    "execution": {
     "iopub.execute_input": "2024-01-29T22:11:29.975998Z",
     "iopub.status.busy": "2024-01-29T22:11:29.975392Z",
     "iopub.status.idle": "2024-01-29T22:11:29.980619Z",
     "shell.execute_reply": "2024-01-29T22:11:29.979525Z"
    },
    "papermill": {
     "duration": 0.01449,
     "end_time": "2024-01-29T22:11:29.982907",
     "exception": false,
     "start_time": "2024-01-29T22:11:29.968417",
     "status": "completed"
    },
    "tags": []
   },
   "outputs": [
    {
     "name": "stdout",
     "output_type": "stream",
     "text": [
      "[[0.0 1.0 0.0 30.0 54000.0]\n",
      " [1.0 0.0 0.0 37.0 67000.0]]\n"
     ]
    }
   ],
   "source": [
    "print(X_test)"
   ]
  },
  {
   "cell_type": "code",
   "execution_count": 12,
   "id": "89a82bfd",
   "metadata": {
    "execution": {
     "iopub.execute_input": "2024-01-29T22:11:29.996683Z",
     "iopub.status.busy": "2024-01-29T22:11:29.996327Z",
     "iopub.status.idle": "2024-01-29T22:11:30.001250Z",
     "shell.execute_reply": "2024-01-29T22:11:30.000264Z"
    },
    "papermill": {
     "duration": 0.014292,
     "end_time": "2024-01-29T22:11:30.003422",
     "exception": false,
     "start_time": "2024-01-29T22:11:29.989130",
     "status": "completed"
    },
    "tags": []
   },
   "outputs": [
    {
     "name": "stdout",
     "output_type": "stream",
     "text": [
      "[0 1 0 0 1 1 0 1]\n"
     ]
    }
   ],
   "source": [
    "print(y_train)"
   ]
  },
  {
   "cell_type": "code",
   "execution_count": 13,
   "id": "358a34b7",
   "metadata": {
    "execution": {
     "iopub.execute_input": "2024-01-29T22:11:30.017319Z",
     "iopub.status.busy": "2024-01-29T22:11:30.016639Z",
     "iopub.status.idle": "2024-01-29T22:11:30.021711Z",
     "shell.execute_reply": "2024-01-29T22:11:30.020916Z"
    },
    "papermill": {
     "duration": 0.014127,
     "end_time": "2024-01-29T22:11:30.023584",
     "exception": false,
     "start_time": "2024-01-29T22:11:30.009457",
     "status": "completed"
    },
    "tags": []
   },
   "outputs": [
    {
     "name": "stdout",
     "output_type": "stream",
     "text": [
      "[0 1]\n"
     ]
    }
   ],
   "source": [
    "print(y_test)"
   ]
  },
  {
   "cell_type": "markdown",
   "id": "2a43a8fd",
   "metadata": {
    "papermill": {
     "duration": 0.006142,
     "end_time": "2024-01-29T22:11:30.035853",
     "exception": false,
     "start_time": "2024-01-29T22:11:30.029711",
     "status": "completed"
    },
    "tags": []
   },
   "source": [
    "# Feature Scaling"
   ]
  },
  {
   "cell_type": "code",
   "execution_count": 14,
   "id": "18f47dcc",
   "metadata": {
    "execution": {
     "iopub.execute_input": "2024-01-29T22:11:30.050137Z",
     "iopub.status.busy": "2024-01-29T22:11:30.049744Z",
     "iopub.status.idle": "2024-01-29T22:11:30.056633Z",
     "shell.execute_reply": "2024-01-29T22:11:30.055545Z"
    },
    "papermill": {
     "duration": 0.016755,
     "end_time": "2024-01-29T22:11:30.058937",
     "exception": false,
     "start_time": "2024-01-29T22:11:30.042182",
     "status": "completed"
    },
    "tags": []
   },
   "outputs": [],
   "source": [
    "from sklearn.preprocessing import StandardScaler\n",
    "sc = StandardScaler()\n",
    "X_train[:, 3:] = sc.fit_transform(X_train[:, 3:])\n",
    "X_test[:, 3:] = sc.transform(X_test[:, 3:])"
   ]
  },
  {
   "cell_type": "code",
   "execution_count": 15,
   "id": "1fffded0",
   "metadata": {
    "execution": {
     "iopub.execute_input": "2024-01-29T22:11:30.073577Z",
     "iopub.status.busy": "2024-01-29T22:11:30.072815Z",
     "iopub.status.idle": "2024-01-29T22:11:30.078713Z",
     "shell.execute_reply": "2024-01-29T22:11:30.077806Z"
    },
    "papermill": {
     "duration": 0.015795,
     "end_time": "2024-01-29T22:11:30.080987",
     "exception": false,
     "start_time": "2024-01-29T22:11:30.065192",
     "status": "completed"
    },
    "tags": []
   },
   "outputs": [
    {
     "name": "stdout",
     "output_type": "stream",
     "text": [
      "[[0.0 0.0 1.0 -0.19159184384578545 -1.0781259408412425]\n",
      " [0.0 1.0 0.0 -0.014117293757057777 -0.07013167641635372]\n",
      " [1.0 0.0 0.0 0.566708506533324 0.633562432710455]\n",
      " [0.0 0.0 1.0 -0.30453019390224867 -0.30786617274297867]\n",
      " [0.0 0.0 1.0 -1.9018011447007988 -1.420463615551582]\n",
      " [1.0 0.0 0.0 1.1475343068237058 1.232653363453549]\n",
      " [0.0 1.0 0.0 1.4379472069688968 1.5749910381638885]\n",
      " [1.0 0.0 0.0 -0.7401495441200351 -0.5646194287757332]]\n"
     ]
    }
   ],
   "source": [
    "print(X_train)"
   ]
  },
  {
   "cell_type": "code",
   "execution_count": 16,
   "id": "138f8ab8",
   "metadata": {
    "execution": {
     "iopub.execute_input": "2024-01-29T22:11:30.095006Z",
     "iopub.status.busy": "2024-01-29T22:11:30.094622Z",
     "iopub.status.idle": "2024-01-29T22:11:30.099588Z",
     "shell.execute_reply": "2024-01-29T22:11:30.098486Z"
    },
    "papermill": {
     "duration": 0.015147,
     "end_time": "2024-01-29T22:11:30.102480",
     "exception": false,
     "start_time": "2024-01-29T22:11:30.087333",
     "status": "completed"
    },
    "tags": []
   },
   "outputs": [
    {
     "name": "stdout",
     "output_type": "stream",
     "text": [
      "[[0.0 1.0 0.0 -1.4661817944830124 -0.9069571034860727]\n",
      " [1.0 0.0 0.0 -0.44973664397484414 0.2056403393225306]]\n"
     ]
    }
   ],
   "source": [
    "print(X_test)"
   ]
  }
 ],
 "metadata": {
  "kaggle": {
   "accelerator": "none",
   "dataSources": [
    {
     "datasetId": 4373231,
     "sourceId": 7508912,
     "sourceType": "datasetVersion"
    }
   ],
   "dockerImageVersionId": 30646,
   "isGpuEnabled": false,
   "isInternetEnabled": true,
   "language": "python",
   "sourceType": "notebook"
  },
  "kernelspec": {
   "display_name": "Python 3",
   "language": "python",
   "name": "python3"
  },
  "language_info": {
   "codemirror_mode": {
    "name": "ipython",
    "version": 3
   },
   "file_extension": ".py",
   "mimetype": "text/x-python",
   "name": "python",
   "nbconvert_exporter": "python",
   "pygments_lexer": "ipython3",
   "version": "3.10.13"
  },
  "papermill": {
   "default_parameters": {},
   "duration": 6.21737,
   "end_time": "2024-01-29T22:11:30.727955",
   "environment_variables": {},
   "exception": null,
   "input_path": "__notebook__.ipynb",
   "output_path": "__notebook__.ipynb",
   "parameters": {},
   "start_time": "2024-01-29T22:11:24.510585",
   "version": "2.5.0"
  }
 },
 "nbformat": 4,
 "nbformat_minor": 5
}
